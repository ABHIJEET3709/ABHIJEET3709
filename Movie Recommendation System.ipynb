{
 "cells": [
  {
   "cell_type": "markdown",
   "id": "d3d1e436-0c5c-4f4a-b6f5-293264a717b2",
   "metadata": {},
   "source": [
    "The Capstone Project presented on Day 81 will be discussed in this session."
   ]
  },
  {
   "cell_type": "code",
   "execution_count": 19,
   "id": "9fad8b3a-f7bd-4502-b66c-b2567c02d66f",
   "metadata": {},
   "outputs": [],
   "source": [
    "# Import necessary libraries\n",
    "import pandas as pd\n",
    "import numpy as np\n",
    "import matplotlib.pyplot as plt\n",
    "from sklearn.model_selection import train_test_split\n",
    "from sklearn.metrics  import mean_squared_error  \n",
    "from sklearn.linear_model import LinearRegression"
   ]
  },
  {
   "cell_type": "code",
   "execution_count": 47,
   "id": "a2ff4740-2fc4-450e-8690-94a19f9b8164",
   "metadata": {},
   "outputs": [
    {
     "name": "stdout",
     "output_type": "stream",
     "text": [
      "             movieId\n",
      "count   10329.000000\n",
      "mean    31924.282893\n",
      "std     37734.741149\n",
      "min         1.000000\n",
      "25%      3240.000000\n",
      "50%      7088.000000\n",
      "75%     59900.000000\n",
      "max    149532.000000\n",
      "              userId        movieId         rating     timestamp\n",
      "count  105339.000000  105339.000000  105339.000000  1.053390e+05\n",
      "mean      364.924539   13381.312477       3.516850  1.130424e+09\n",
      "std       197.486905   26170.456869       1.044872  1.802660e+08\n",
      "min         1.000000       1.000000       0.500000  8.285650e+08\n",
      "25%       192.000000    1073.000000       3.000000  9.711008e+08\n",
      "50%       383.000000    2497.000000       3.500000  1.115154e+09\n",
      "75%       557.000000    5991.000000       4.000000  1.275496e+09\n",
      "max       668.000000  149532.000000       5.000000  1.452405e+09\n",
      "Unique users: 668, Unique movies: 10329\n",
      "Average ratings by genre:\n",
      "genres\n",
      "(no genres listed)                     3.071429\n",
      "Action                                 2.836406\n",
      "Action|Adventure                       3.739804\n",
      "Action|Adventure|Animation             4.125000\n",
      "Action|Adventure|Animation|Children    3.550000\n",
      "                                         ...   \n",
      "Sci-Fi|Thriller|IMAX                   3.500000\n",
      "Thriller                               3.473430\n",
      "Thriller|War                           3.500000\n",
      "War                                    3.613636\n",
      "Western                                3.500000\n",
      "Name: rating, Length: 938, dtype: float64\n",
      "Total movies by genre:\n",
      "genres\n",
      "(no genres listed)                       7\n",
      "Action                                  48\n",
      "Action|Adventure                        32\n",
      "Action|Adventure|Animation               3\n",
      "Action|Adventure|Animation|Children      1\n",
      "                                      ... \n",
      "Sci-Fi|Thriller|IMAX                     1\n",
      "Thriller                               106\n",
      "Thriller|War                             7\n",
      "War                                     10\n",
      "Western                                 66\n",
      "Name: movieId, Length: 938, dtype: int64\n",
      "Unique genres: {'War', 'Musical', 'Fantasy', 'Children', 'Animation', 'Documentary', 'Film-Noir', 'Mystery', 'Thriller', 'Comedy', 'Action', 'Romance', '(no genres listed)', 'Drama', 'Crime', 'Adventure', 'Western', 'Horror', 'Sci-Fi', 'IMAX'}\n"
     ]
    }
   ],
   "source": [
    "\n",
    "# Load the dataset\n",
    "movies = pd.read_csv('Movies.csv')\n",
    "ratings = pd.read_csv('Ratings.csv')\n",
    "\n",
    "# Exploratory Data Analysis (EDA)\n",
    "def perform_eda():\n",
    "    \"\"\"\n",
    "    Perform Exploratory Data Analysis (EDA)\n",
    "    \"\"\"\n",
    "    # Understanding distribution of features\n",
    "    print(movies.describe())\n",
    "    print(ratings.describe())\n",
    "\n",
    "    # Finding unique users and movies\n",
    "    unique_users = ratings['userId'].nunique()\n",
    "    unique_movies = movies['movieId'].nunique()\n",
    "    print(f\"Unique users: {unique_users}, Unique movies: {unique_movies}\")\n",
    "\n",
    "    # Average rating and total movies at genre level\n",
    "    genre_ratings = movies.merge(ratings, on='movieId')\n",
    "    avg_ratings_genre = genre_ratings.groupby('genres')['rating'].mean()\n",
    "    total_movies_genre = genre_ratings.groupby('genres')['movieId'].nunique()\n",
    "    print(f\"Average ratings by genre:\\n{avg_ratings_genre}\")\n",
    "    print(f\"Total movies by genre:\\n{total_movies_genre}\")\n",
    "\n",
    "    # Unique genres considered\n",
    "    unique_genres = set()\n",
    "    for genre_list in movies['genres'].str.split('|'):\n",
    "        unique_genres.update(genre_list)\n",
    "    print(f\"Unique genres: {unique_genres}\")\n",
    "\n",
    "perform_eda()\n",
    "\n",
    "# Define the recommendation system functions\n",
    "def popularity_based():\n",
    "    \"\"\"\n",
    "    Implement popularity-based recommendation system.\n",
    "    \"\"\"\n",
    "    # Implementation details\n",
    "\n",
    "def content_based(movie_title, num_recommendations):\n",
    "    \"\"\"\n",
    "    Implement content-based recommendation system.\n",
    "    \"\"\"\n",
    "    # Implementation details\n",
    "\n",
    "def collaborative_based(user_id, num_recommendations, k_similar_users):\n",
    "    \"\"\"\n",
    "    Implement collaborative-based recommendation system.\n",
    "    \"\"\"\n",
    "    # Implementation details\n",
    "\n",
    "# Create a GUI interface using ipywidgets (or similar)\n",
    "# Note: GUI code here\n"
   ]
  },
  {
   "cell_type": "code",
   "execution_count": 45,
   "id": "889a2307-093f-465e-949d-94e514e0a934",
   "metadata": {},
   "outputs": [
    {
     "data": {
      "image/png": "[encoded data removed]",
      "text/plain": [
       "<Figure size 640x480 with 1 Axes>"
      ]
     },
     "metadata": {},
     "output_type": "display_data"
    },
    {
     "name": "stdout",
     "output_type": "stream",
     "text": [
      "\n",
      "Mean Squared Error: 1.0806509827611537\n",
      "\n",
      "Intercept: 3.6093296552974925\n",
      "Coefficients: [-2.26121620e-04 -9.20403694e-07]\n"
     ]
    }
   ],
   "source": [
    "# Example: Visualize distribution of ratings\n",
    "plt.hist(ratings_df['rating'], bins=10, edgecolor='black')\n",
    "plt.xlabel('Rating')\n",
    "plt.ylabel('Frequency')\n",
    "plt.title('Distribution of Ratings')\n",
    "plt.show()\n",
    "\n",
    "# Example: Merge movies and ratings data\n",
    "merged_df = pd.merge(ratings_df, movies_df, on='movieId')\n",
    "\n",
    "# Example: Train-test split\n",
    "X = merged_df[['userId', 'movieId']]  # Assuming 'userId' instead of 'user_id'\n",
    "y = merged_df['rating']\n",
    "X_train, X_test, y_train, y_test = train_test_split(X, y, test_size=0.2, random_state=42)\n",
    "\n",
    "# Example: Train a simple Linear Regression model\n",
    "model = LinearRegression()\n",
    "model.fit(X_train, y_train)\n",
    "\n",
    "y_pred = model.predict(X_test)\n",
    "mse = mean_squared_error(y_test, y_pred)\n",
    "print(f'\\nMean Squared Error: {mse}')\n",
    "\n",
    "# Example: Print coefficients and interpret results\n",
    "print('\\nIntercept:', model.intercept_)\n",
    "print('Coefficients:', model.coef_)\n"
   ]
  },
  {
   "cell_type": "code",
   "execution_count": null,
   "id": "a9877bea-c68a-4ec2-8449-63df5c0840c2",
   "metadata": {},
   "outputs": [],
   "source": []
  }
 ],
 "metadata": {
  "kernelspec": {
   "display_name": "Python 3 (ipykernel)",
   "language": "python",
   "name": "python3"
  },
  "language_info": {
   "codemirror_mode": {
    "name": "ipython",
    "version": 3
   },
   "file_extension": ".py",
   "mimetype": "text/x-python",
   "name": "python",
   "nbconvert_exporter": "python",
   "pygments_lexer": "ipython3",
   "version": "3.12.4"
  }
 },
 "nbformat": 4,
 "nbformat_minor": 5
}
